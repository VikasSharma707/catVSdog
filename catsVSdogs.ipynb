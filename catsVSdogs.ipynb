{
  "nbformat": 4,
  "nbformat_minor": 0,
  "metadata": {
    "colab": {
      "name": "catsVSdogs.ipynb",
      "provenance": [],
      "collapsed_sections": []
    },
    "kernelspec": {
      "name": "python3",
      "display_name": "Python 3"
    },
    "language_info": {
      "name": "python"
    },
    "accelerator": "GPU"
  },
  "cells": [
    {
      "cell_type": "code",
      "metadata": {
        "id": "sgjcthGapdl3"
      },
      "source": [
        "import numpy as np\n",
        "import pandas as pd\n",
        "import os\n",
        "import zipfile\n",
        "import tensorflow as tf\n",
        "from tensorflow.keras.optimizers import RMSprop\n",
        "from tensorflow.keras.preprocessing.image import ImageDataGenerator"
      ],
      "execution_count": null,
      "outputs": []
    },
    {
      "cell_type": "code",
      "metadata": {
        "colab": {
          "base_uri": "https://localhost:8080/"
        },
        "id": "-SN75SbQrOKk",
        "outputId": "8637f542-b237-40a0-b2dc-40e5bab47389"
      },
      "source": [
        "!gdown --id 1RL0T7Rg4XqQNRCkjfnLo4goOJQ7XZro9"
      ],
      "execution_count": null,
      "outputs": [
        {
          "output_type": "stream",
          "name": "stdout",
          "text": [
            "Downloading...\n",
            "From: https://drive.google.com/uc?id=1RL0T7Rg4XqQNRCkjfnLo4goOJQ7XZro9\n",
            "To: /content/cats_and_dogs_filtered.zip\n",
            "100% 68.6M/68.6M [00:00<00:00, 164MB/s]\n"
          ]
        }
      ]
    },
    {
      "cell_type": "code",
      "metadata": {
        "id": "ZPb55svgw6rn"
      },
      "source": [
        "zip_ref = zipfile.ZipFile('/content/cats_and_dogs_filtered.zip', 'r')\n",
        "zip_ref.extractall()\n",
        "zip_ref.close()"
      ],
      "execution_count": null,
      "outputs": []
    },
    {
      "cell_type": "code",
      "metadata": {
        "id": "mYDt6JHDNSKZ"
      },
      "source": [
        "base_dir = '/content/cats_and_dogs_filtered'\n",
        "train_dir = os.path.join(base_dir, 'train')\n",
        "validation_dir = os.path.join(base_dir, 'validation')\n",
        "\n",
        "#training directory\n",
        "train_cat_dir = os.path.join(train_dir, 'cats')\n",
        "train_dog_dir = os.path.join(train_dir, 'dog')\n",
        "#validation directory\n",
        "valid_cat_dir = os.path.join(validation_dir, 'cats')\n",
        "valid_dog_dir = os.path.join(validation_dir, 'dogs')"
      ],
      "execution_count": null,
      "outputs": []
    },
    {
      "cell_type": "markdown",
      "metadata": {
        "id": "ispNeZV2QOUf"
      },
      "source": [
        "**MODEL**"
      ]
    },
    {
      "cell_type": "code",
      "metadata": {
        "id": "nzAIwGzQN5MO",
        "colab": {
          "base_uri": "https://localhost:8080/"
        },
        "outputId": "d7db963a-5c6c-44bf-f8ee-b014944605d8"
      },
      "source": [
        "model = tf.keras.Sequential([\n",
        "                             tf.keras.layers.Conv2D(32,(3,3), activation='relu', input_shape=(150,150,3)),\n",
        "                             tf.keras.layers.MaxPool2D(2,2),\n",
        "                             tf.keras.layers.Conv2D(64,(3,3), activation='relu'),\n",
        "                             tf.keras.layers.MaxPool2D(2,2),\n",
        "                             tf.keras.layers.Conv2D(128,(3,3), activation='relu'),\n",
        "                             tf.keras.layers.MaxPool2D(2,2),\n",
        "                             tf.keras.layers.Flatten(),\n",
        "                             tf.keras.layers.Dense(512, activation='relu'),\n",
        "                             tf.keras.layers.Dense(1, activation='sigmoid')\n",
        "])\n",
        "\n",
        "model.compile(loss='binary_crossentropy',\n",
        "              optimizer=RMSprop(learning_rate=1e-4),\n",
        "              metrics=['accuracy'])\n",
        "\n",
        "#update image augmentation\n",
        "train_datagen = ImageDataGenerator(\n",
        "      rescale=1./255,\n",
        "      rotation_range=40,\n",
        "      width_shift_range=0.2,\n",
        "      height_shift_range=0.2,\n",
        "      shear_range=0.2,\n",
        "      zoom_range=0.2,\n",
        "      horizontal_flip=True,\n",
        "      fill_mode='nearest')\n",
        "\n",
        "test_datagen = ImageDataGenerator(rescale=1./255)\n",
        "\n",
        "\n",
        "\n",
        "#flow training image of batches size 20 using train_datagen generator\n",
        "train_generator = train_datagen.flow_from_directory(\n",
        "        train_dir,  # This is the source directory for training images\n",
        "        target_size=(150, 150),  # All images will be resized to 150x150\n",
        "        batch_size=20,\n",
        "        class_mode='binary')\n",
        "#flow validation image of batches 20 form test_datgen\n",
        "validation_generator = test_datagen.flow_from_directory(\n",
        "        validation_dir,\n",
        "        target_size=(150, 150),\n",
        "        batch_size=20,\n",
        "        class_mode='binary')\n"
      ],
      "execution_count": null,
      "outputs": [
        {
          "output_type": "stream",
          "name": "stdout",
          "text": [
            "Found 2000 images belonging to 2 classes.\n",
            "Found 1000 images belonging to 2 classes.\n"
          ]
        }
      ]
    },
    {
      "cell_type": "code",
      "metadata": {
        "colab": {
          "base_uri": "https://localhost:8080/"
        },
        "id": "gLSA9K_MSWzH",
        "outputId": "c185cc12-ec79-44f0-e8bb-eedb5ea5d521"
      },
      "source": [
        "history = model.fit(\n",
        "      train_generator,\n",
        "      steps_per_epoch=100,  # 2000 images = batch_size * steps\n",
        "      epochs=100,\n",
        "      validation_data=validation_generator,\n",
        "      validation_steps=50,  # 1000 images = batch_size * steps\n",
        "      verbose=2)"
      ],
      "execution_count": null,
      "outputs": [
        {
          "output_type": "stream",
          "name": "stdout",
          "text": [
            "Epoch 1/100\n",
            "100/100 - 51s - loss: 0.7007 - accuracy: 0.5305 - val_loss: 0.6807 - val_accuracy: 0.5060 - 51s/epoch - 512ms/step\n",
            "Epoch 2/100\n",
            "100/100 - 21s - loss: 0.6719 - accuracy: 0.5810 - val_loss: 0.6328 - val_accuracy: 0.6450 - 21s/epoch - 206ms/step\n",
            "Epoch 3/100\n",
            "100/100 - 22s - loss: 0.6535 - accuracy: 0.6125 - val_loss: 0.6082 - val_accuracy: 0.6710 - 22s/epoch - 222ms/step\n",
            "Epoch 4/100\n",
            "100/100 - 22s - loss: 0.6369 - accuracy: 0.6335 - val_loss: 0.5950 - val_accuracy: 0.6800 - 22s/epoch - 222ms/step\n",
            "Epoch 5/100\n",
            "100/100 - 22s - loss: 0.6269 - accuracy: 0.6385 - val_loss: 0.5837 - val_accuracy: 0.6990 - 22s/epoch - 222ms/step\n",
            "Epoch 6/100\n",
            "100/100 - 22s - loss: 0.6079 - accuracy: 0.6700 - val_loss: 0.5987 - val_accuracy: 0.6720 - 22s/epoch - 223ms/step\n",
            "Epoch 7/100\n",
            "100/100 - 22s - loss: 0.5973 - accuracy: 0.6760 - val_loss: 0.5670 - val_accuracy: 0.6920 - 22s/epoch - 222ms/step\n",
            "Epoch 8/100\n",
            "100/100 - 22s - loss: 0.5941 - accuracy: 0.6740 - val_loss: 0.5706 - val_accuracy: 0.6860 - 22s/epoch - 222ms/step\n",
            "Epoch 9/100\n",
            "100/100 - 22s - loss: 0.5809 - accuracy: 0.6895 - val_loss: 0.5466 - val_accuracy: 0.7100 - 22s/epoch - 221ms/step\n",
            "Epoch 10/100\n",
            "100/100 - 22s - loss: 0.5703 - accuracy: 0.7010 - val_loss: 0.5748 - val_accuracy: 0.7100 - 22s/epoch - 221ms/step\n",
            "Epoch 11/100\n",
            "100/100 - 22s - loss: 0.5776 - accuracy: 0.6930 - val_loss: 0.5312 - val_accuracy: 0.7310 - 22s/epoch - 222ms/step\n",
            "Epoch 12/100\n",
            "100/100 - 21s - loss: 0.5576 - accuracy: 0.7035 - val_loss: 0.5276 - val_accuracy: 0.7370 - 21s/epoch - 210ms/step\n",
            "Epoch 13/100\n",
            "100/100 - 20s - loss: 0.5524 - accuracy: 0.7110 - val_loss: 0.5194 - val_accuracy: 0.7480 - 20s/epoch - 200ms/step\n",
            "Epoch 14/100\n",
            "100/100 - 20s - loss: 0.5528 - accuracy: 0.7105 - val_loss: 0.5094 - val_accuracy: 0.7410 - 20s/epoch - 198ms/step\n",
            "Epoch 15/100\n",
            "100/100 - 20s - loss: 0.5531 - accuracy: 0.7100 - val_loss: 0.5774 - val_accuracy: 0.7010 - 20s/epoch - 196ms/step\n",
            "Epoch 16/100\n",
            "100/100 - 20s - loss: 0.5530 - accuracy: 0.7040 - val_loss: 0.5124 - val_accuracy: 0.7500 - 20s/epoch - 198ms/step\n",
            "Epoch 17/100\n",
            "100/100 - 20s - loss: 0.5298 - accuracy: 0.7370 - val_loss: 0.5498 - val_accuracy: 0.7250 - 20s/epoch - 197ms/step\n",
            "Epoch 18/100\n",
            "100/100 - 20s - loss: 0.5294 - accuracy: 0.7320 - val_loss: 0.5200 - val_accuracy: 0.7230 - 20s/epoch - 198ms/step\n",
            "Epoch 19/100\n",
            "100/100 - 20s - loss: 0.5375 - accuracy: 0.7230 - val_loss: 0.4933 - val_accuracy: 0.7450 - 20s/epoch - 197ms/step\n",
            "Epoch 20/100\n",
            "100/100 - 20s - loss: 0.5179 - accuracy: 0.7415 - val_loss: 0.4931 - val_accuracy: 0.7530 - 20s/epoch - 195ms/step\n",
            "Epoch 21/100\n",
            "100/100 - 20s - loss: 0.5190 - accuracy: 0.7360 - val_loss: 0.4861 - val_accuracy: 0.7600 - 20s/epoch - 197ms/step\n",
            "Epoch 22/100\n",
            "100/100 - 20s - loss: 0.5084 - accuracy: 0.7535 - val_loss: 0.5115 - val_accuracy: 0.7390 - 20s/epoch - 199ms/step\n",
            "Epoch 23/100\n",
            "100/100 - 20s - loss: 0.5057 - accuracy: 0.7390 - val_loss: 0.5030 - val_accuracy: 0.7490 - 20s/epoch - 197ms/step\n",
            "Epoch 24/100\n",
            "100/100 - 19s - loss: 0.5049 - accuracy: 0.7525 - val_loss: 0.5137 - val_accuracy: 0.7510 - 19s/epoch - 195ms/step\n",
            "Epoch 25/100\n",
            "100/100 - 20s - loss: 0.5077 - accuracy: 0.7460 - val_loss: 0.4821 - val_accuracy: 0.7670 - 20s/epoch - 197ms/step\n",
            "Epoch 26/100\n",
            "100/100 - 20s - loss: 0.5037 - accuracy: 0.7510 - val_loss: 0.5104 - val_accuracy: 0.7380 - 20s/epoch - 202ms/step\n",
            "Epoch 27/100\n",
            "100/100 - 21s - loss: 0.4940 - accuracy: 0.7555 - val_loss: 0.4884 - val_accuracy: 0.7600 - 21s/epoch - 206ms/step\n",
            "Epoch 28/100\n",
            "100/100 - 21s - loss: 0.5005 - accuracy: 0.7580 - val_loss: 0.4847 - val_accuracy: 0.7620 - 21s/epoch - 210ms/step\n",
            "Epoch 29/100\n",
            "100/100 - 21s - loss: 0.4860 - accuracy: 0.7610 - val_loss: 0.4926 - val_accuracy: 0.7460 - 21s/epoch - 212ms/step\n",
            "Epoch 30/100\n",
            "100/100 - 21s - loss: 0.4894 - accuracy: 0.7580 - val_loss: 0.4759 - val_accuracy: 0.7710 - 21s/epoch - 207ms/step\n",
            "Epoch 31/100\n",
            "100/100 - 21s - loss: 0.4910 - accuracy: 0.7655 - val_loss: 0.4788 - val_accuracy: 0.7660 - 21s/epoch - 205ms/step\n",
            "Epoch 32/100\n",
            "100/100 - 21s - loss: 0.4903 - accuracy: 0.7530 - val_loss: 0.5029 - val_accuracy: 0.7560 - 21s/epoch - 205ms/step\n",
            "Epoch 33/100\n",
            "100/100 - 21s - loss: 0.4740 - accuracy: 0.7745 - val_loss: 0.5042 - val_accuracy: 0.7520 - 21s/epoch - 205ms/step\n",
            "Epoch 34/100\n",
            "100/100 - 20s - loss: 0.4830 - accuracy: 0.7565 - val_loss: 0.4813 - val_accuracy: 0.7610 - 20s/epoch - 204ms/step\n",
            "Epoch 35/100\n",
            "100/100 - 20s - loss: 0.4698 - accuracy: 0.7795 - val_loss: 0.4873 - val_accuracy: 0.7730 - 20s/epoch - 205ms/step\n",
            "Epoch 36/100\n",
            "100/100 - 20s - loss: 0.4743 - accuracy: 0.7595 - val_loss: 0.4721 - val_accuracy: 0.7740 - 20s/epoch - 202ms/step\n",
            "Epoch 37/100\n",
            "100/100 - 20s - loss: 0.4812 - accuracy: 0.7630 - val_loss: 0.4588 - val_accuracy: 0.7810 - 20s/epoch - 203ms/step\n",
            "Epoch 38/100\n",
            "100/100 - 20s - loss: 0.4703 - accuracy: 0.7785 - val_loss: 0.4669 - val_accuracy: 0.7780 - 20s/epoch - 203ms/step\n",
            "Epoch 39/100\n",
            "100/100 - 20s - loss: 0.4626 - accuracy: 0.7760 - val_loss: 0.6296 - val_accuracy: 0.7070 - 20s/epoch - 204ms/step\n",
            "Epoch 40/100\n",
            "100/100 - 20s - loss: 0.4599 - accuracy: 0.7865 - val_loss: 0.5579 - val_accuracy: 0.7350 - 20s/epoch - 202ms/step\n",
            "Epoch 41/100\n",
            "100/100 - 20s - loss: 0.4591 - accuracy: 0.7755 - val_loss: 0.4743 - val_accuracy: 0.7760 - 20s/epoch - 203ms/step\n",
            "Epoch 42/100\n",
            "100/100 - 21s - loss: 0.4597 - accuracy: 0.7770 - val_loss: 0.4631 - val_accuracy: 0.7820 - 21s/epoch - 205ms/step\n",
            "Epoch 43/100\n",
            "100/100 - 20s - loss: 0.4584 - accuracy: 0.7840 - val_loss: 0.4591 - val_accuracy: 0.7890 - 20s/epoch - 205ms/step\n",
            "Epoch 44/100\n",
            "100/100 - 21s - loss: 0.4626 - accuracy: 0.7750 - val_loss: 0.4883 - val_accuracy: 0.7560 - 21s/epoch - 207ms/step\n",
            "Epoch 45/100\n",
            "100/100 - 21s - loss: 0.4460 - accuracy: 0.7885 - val_loss: 0.5249 - val_accuracy: 0.7540 - 21s/epoch - 208ms/step\n",
            "Epoch 46/100\n",
            "100/100 - 21s - loss: 0.4450 - accuracy: 0.7865 - val_loss: 0.4701 - val_accuracy: 0.7870 - 21s/epoch - 208ms/step\n",
            "Epoch 47/100\n",
            "100/100 - 21s - loss: 0.4462 - accuracy: 0.7840 - val_loss: 0.4557 - val_accuracy: 0.7920 - 21s/epoch - 207ms/step\n",
            "Epoch 48/100\n",
            "100/100 - 20s - loss: 0.4477 - accuracy: 0.7855 - val_loss: 0.5011 - val_accuracy: 0.7650 - 20s/epoch - 204ms/step\n",
            "Epoch 49/100\n",
            "100/100 - 20s - loss: 0.4434 - accuracy: 0.7990 - val_loss: 0.4754 - val_accuracy: 0.7700 - 20s/epoch - 202ms/step\n",
            "Epoch 50/100\n",
            "100/100 - 20s - loss: 0.4502 - accuracy: 0.7865 - val_loss: 0.4558 - val_accuracy: 0.7780 - 20s/epoch - 204ms/step\n",
            "Epoch 51/100\n",
            "100/100 - 20s - loss: 0.4509 - accuracy: 0.7805 - val_loss: 0.4648 - val_accuracy: 0.7810 - 20s/epoch - 203ms/step\n",
            "Epoch 52/100\n",
            "100/100 - 20s - loss: 0.4397 - accuracy: 0.7825 - val_loss: 0.4586 - val_accuracy: 0.7900 - 20s/epoch - 202ms/step\n",
            "Epoch 53/100\n",
            "100/100 - 20s - loss: 0.4383 - accuracy: 0.8010 - val_loss: 0.4693 - val_accuracy: 0.7720 - 20s/epoch - 201ms/step\n",
            "Epoch 54/100\n",
            "100/100 - 20s - loss: 0.4342 - accuracy: 0.7945 - val_loss: 0.4705 - val_accuracy: 0.7820 - 20s/epoch - 204ms/step\n",
            "Epoch 55/100\n",
            "100/100 - 20s - loss: 0.4376 - accuracy: 0.8005 - val_loss: 0.4676 - val_accuracy: 0.7840 - 20s/epoch - 203ms/step\n",
            "Epoch 56/100\n",
            "100/100 - 20s - loss: 0.4423 - accuracy: 0.7990 - val_loss: 0.5732 - val_accuracy: 0.7210 - 20s/epoch - 204ms/step\n",
            "Epoch 57/100\n",
            "100/100 - 21s - loss: 0.4238 - accuracy: 0.8065 - val_loss: 0.4915 - val_accuracy: 0.7750 - 21s/epoch - 206ms/step\n",
            "Epoch 58/100\n",
            "100/100 - 21s - loss: 0.4168 - accuracy: 0.7990 - val_loss: 0.4477 - val_accuracy: 0.7970 - 21s/epoch - 206ms/step\n",
            "Epoch 59/100\n",
            "100/100 - 21s - loss: 0.4223 - accuracy: 0.8020 - val_loss: 0.5061 - val_accuracy: 0.7660 - 21s/epoch - 207ms/step\n",
            "Epoch 60/100\n",
            "100/100 - 21s - loss: 0.4187 - accuracy: 0.8080 - val_loss: 0.4452 - val_accuracy: 0.8020 - 21s/epoch - 206ms/step\n",
            "Epoch 61/100\n",
            "100/100 - 21s - loss: 0.4157 - accuracy: 0.8015 - val_loss: 0.4632 - val_accuracy: 0.7850 - 21s/epoch - 207ms/step\n",
            "Epoch 62/100\n",
            "100/100 - 21s - loss: 0.4240 - accuracy: 0.8005 - val_loss: 0.4442 - val_accuracy: 0.7960 - 21s/epoch - 207ms/step\n",
            "Epoch 63/100\n",
            "100/100 - 21s - loss: 0.4185 - accuracy: 0.8030 - val_loss: 0.4383 - val_accuracy: 0.8010 - 21s/epoch - 209ms/step\n",
            "Epoch 64/100\n",
            "100/100 - 20s - loss: 0.4147 - accuracy: 0.8010 - val_loss: 0.4563 - val_accuracy: 0.7880 - 20s/epoch - 204ms/step\n",
            "Epoch 65/100\n",
            "100/100 - 20s - loss: 0.4176 - accuracy: 0.8075 - val_loss: 0.4804 - val_accuracy: 0.7800 - 20s/epoch - 200ms/step\n",
            "Epoch 66/100\n",
            "100/100 - 20s - loss: 0.4257 - accuracy: 0.7985 - val_loss: 0.4413 - val_accuracy: 0.7990 - 20s/epoch - 203ms/step\n",
            "Epoch 67/100\n",
            "100/100 - 20s - loss: 0.4116 - accuracy: 0.8120 - val_loss: 0.4691 - val_accuracy: 0.7880 - 20s/epoch - 200ms/step\n",
            "Epoch 68/100\n",
            "100/100 - 22s - loss: 0.4178 - accuracy: 0.8020 - val_loss: 0.5523 - val_accuracy: 0.7420 - 22s/epoch - 218ms/step\n",
            "Epoch 69/100\n",
            "100/100 - 21s - loss: 0.4102 - accuracy: 0.8115 - val_loss: 0.4487 - val_accuracy: 0.7980 - 21s/epoch - 213ms/step\n",
            "Epoch 70/100\n",
            "100/100 - 22s - loss: 0.4182 - accuracy: 0.8070 - val_loss: 0.4559 - val_accuracy: 0.7820 - 22s/epoch - 219ms/step\n",
            "Epoch 71/100\n",
            "100/100 - 22s - loss: 0.4167 - accuracy: 0.8095 - val_loss: 0.5041 - val_accuracy: 0.7530 - 22s/epoch - 219ms/step\n",
            "Epoch 72/100\n",
            "100/100 - 22s - loss: 0.4202 - accuracy: 0.8055 - val_loss: 0.4495 - val_accuracy: 0.7890 - 22s/epoch - 218ms/step\n",
            "Epoch 73/100\n",
            "100/100 - 22s - loss: 0.3917 - accuracy: 0.8180 - val_loss: 0.4348 - val_accuracy: 0.8000 - 22s/epoch - 219ms/step\n",
            "Epoch 74/100\n",
            "100/100 - 22s - loss: 0.4063 - accuracy: 0.8125 - val_loss: 0.4611 - val_accuracy: 0.7970 - 22s/epoch - 219ms/step\n",
            "Epoch 75/100\n",
            "100/100 - 22s - loss: 0.3958 - accuracy: 0.8240 - val_loss: 0.4497 - val_accuracy: 0.7910 - 22s/epoch - 218ms/step\n",
            "Epoch 76/100\n",
            "100/100 - 22s - loss: 0.4107 - accuracy: 0.8080 - val_loss: 0.4559 - val_accuracy: 0.7870 - 22s/epoch - 218ms/step\n",
            "Epoch 77/100\n",
            "100/100 - 22s - loss: 0.3846 - accuracy: 0.8310 - val_loss: 0.4861 - val_accuracy: 0.7660 - 22s/epoch - 217ms/step\n",
            "Epoch 78/100\n",
            "100/100 - 22s - loss: 0.4042 - accuracy: 0.8065 - val_loss: 0.4600 - val_accuracy: 0.7930 - 22s/epoch - 218ms/step\n",
            "Epoch 79/100\n",
            "100/100 - 22s - loss: 0.3838 - accuracy: 0.8310 - val_loss: 0.5327 - val_accuracy: 0.7640 - 22s/epoch - 218ms/step\n",
            "Epoch 80/100\n",
            "100/100 - 22s - loss: 0.3903 - accuracy: 0.8270 - val_loss: 0.4608 - val_accuracy: 0.7750 - 22s/epoch - 216ms/step\n",
            "Epoch 81/100\n",
            "100/100 - 22s - loss: 0.3749 - accuracy: 0.8320 - val_loss: 0.4903 - val_accuracy: 0.7890 - 22s/epoch - 216ms/step\n",
            "Epoch 82/100\n",
            "100/100 - 21s - loss: 0.3885 - accuracy: 0.8135 - val_loss: 0.4604 - val_accuracy: 0.7840 - 21s/epoch - 214ms/step\n",
            "Epoch 83/100\n",
            "100/100 - 19s - loss: 0.4005 - accuracy: 0.8225 - val_loss: 0.5319 - val_accuracy: 0.7750 - 19s/epoch - 193ms/step\n",
            "Epoch 84/100\n",
            "100/100 - 19s - loss: 0.3939 - accuracy: 0.8150 - val_loss: 0.5260 - val_accuracy: 0.7440 - 19s/epoch - 194ms/step\n",
            "Epoch 85/100\n",
            "100/100 - 20s - loss: 0.3895 - accuracy: 0.8325 - val_loss: 0.4587 - val_accuracy: 0.7950 - 20s/epoch - 201ms/step\n",
            "Epoch 86/100\n",
            "100/100 - 21s - loss: 0.3847 - accuracy: 0.8315 - val_loss: 0.4659 - val_accuracy: 0.7830 - 21s/epoch - 210ms/step\n",
            "Epoch 87/100\n",
            "100/100 - 21s - loss: 0.3782 - accuracy: 0.8385 - val_loss: 0.4632 - val_accuracy: 0.8090 - 21s/epoch - 212ms/step\n",
            "Epoch 88/100\n",
            "100/100 - 22s - loss: 0.4021 - accuracy: 0.8155 - val_loss: 0.4773 - val_accuracy: 0.7950 - 22s/epoch - 221ms/step\n",
            "Epoch 89/100\n",
            "100/100 - 22s - loss: 0.3800 - accuracy: 0.8225 - val_loss: 0.4934 - val_accuracy: 0.7750 - 22s/epoch - 221ms/step\n",
            "Epoch 90/100\n",
            "100/100 - 22s - loss: 0.3957 - accuracy: 0.8145 - val_loss: 0.4462 - val_accuracy: 0.7920 - 22s/epoch - 220ms/step\n",
            "Epoch 91/100\n",
            "100/100 - 22s - loss: 0.3838 - accuracy: 0.8290 - val_loss: 0.4795 - val_accuracy: 0.7850 - 22s/epoch - 220ms/step\n",
            "Epoch 92/100\n",
            "100/100 - 22s - loss: 0.3810 - accuracy: 0.8305 - val_loss: 0.4501 - val_accuracy: 0.7890 - 22s/epoch - 219ms/step\n",
            "Epoch 93/100\n",
            "100/100 - 22s - loss: 0.3669 - accuracy: 0.8255 - val_loss: 0.4906 - val_accuracy: 0.7820 - 22s/epoch - 220ms/step\n",
            "Epoch 94/100\n",
            "100/100 - 22s - loss: 0.3799 - accuracy: 0.8240 - val_loss: 0.4423 - val_accuracy: 0.8050 - 22s/epoch - 220ms/step\n",
            "Epoch 95/100\n",
            "100/100 - 22s - loss: 0.3715 - accuracy: 0.8375 - val_loss: 0.4619 - val_accuracy: 0.7840 - 22s/epoch - 220ms/step\n",
            "Epoch 96/100\n",
            "100/100 - 22s - loss: 0.3724 - accuracy: 0.8315 - val_loss: 0.4456 - val_accuracy: 0.7900 - 22s/epoch - 220ms/step\n",
            "Epoch 97/100\n",
            "100/100 - 21s - loss: 0.3688 - accuracy: 0.8380 - val_loss: 0.4327 - val_accuracy: 0.8060 - 21s/epoch - 209ms/step\n",
            "Epoch 98/100\n",
            "100/100 - 22s - loss: 0.3812 - accuracy: 0.8300 - val_loss: 0.4256 - val_accuracy: 0.8110 - 22s/epoch - 222ms/step\n",
            "Epoch 99/100\n",
            "100/100 - 20s - loss: 0.3680 - accuracy: 0.8430 - val_loss: 0.5913 - val_accuracy: 0.7650 - 20s/epoch - 204ms/step\n",
            "Epoch 100/100\n",
            "100/100 - 21s - loss: 0.3691 - accuracy: 0.8425 - val_loss: 0.4473 - val_accuracy: 0.7980 - 21s/epoch - 205ms/step\n"
          ]
        }
      ]
    },
    {
      "cell_type": "code",
      "metadata": {
        "colab": {
          "base_uri": "https://localhost:8080/",
          "height": 545
        },
        "id": "dyzD7ZREbVvk",
        "outputId": "83178fe1-fa8d-4c4d-c9f7-38df8e20ac88"
      },
      "source": [
        "import matplotlib.pyplot as plt\n",
        "acc = history.history['accuracy']\n",
        "val_acc = history.history['val_accuracy']\n",
        "loss = history.history['loss']\n",
        "val_loss = history.history['val_loss']\n",
        "\n",
        "epochs = range(len(acc))\n",
        "\n",
        "plt.plot(epochs, acc, 'bo', label='Training accuracy')\n",
        "plt.plot(epochs, val_acc, 'b', label='Validation accuracy')\n",
        "plt.title('Training and validation accuracy')\n",
        "\n",
        "plt.figure()\n",
        "\n",
        "plt.plot(epochs, loss, 'bo', label='Training Loss')\n",
        "plt.plot(epochs, val_loss, 'b', label='Validation Loss')\n",
        "plt.title('Training and validation loss')\n",
        "plt.legend()\n",
        "\n",
        "plt.show()"
      ],
      "execution_count": null,
      "outputs": [
        {
          "output_type": "display_data",
          "data": {
            "image/png": "[encoded data removed]",
            "text/plain": [
              "<Figure size 432x288 with 1 Axes>"
            ]
          },
          "metadata": {
            "needs_background": "light"
          }
        },
        {
          "output_type": "display_data",
          "data": {
            "image/png": "[encoded data removed]",
            "text/plain": [
              "<Figure size 432x288 with 1 Axes>"
            ]
          },
          "metadata": {
            "needs_background": "light"
          }
        }
      ]
    },
    {
      "cell_type": "code",
      "metadata": {
        "id": "Bx_SHFv6oBo_"
      },
      "source": [
        ""
      ],
      "execution_count": null,
      "outputs": []
    }
  ]
}